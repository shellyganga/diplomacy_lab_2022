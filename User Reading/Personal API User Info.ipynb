{
 "cells": [
  {
   "cell_type": "code",
   "execution_count": 7,
   "id": "dfbec3c0",
   "metadata": {},
   "outputs": [],
   "source": [
    "import time"
   ]
  },
  {
   "cell_type": "code",
   "execution_count": 8,
   "id": "2ef941d0",
   "metadata": {},
   "outputs": [],
   "source": [
    "import requests\n",
    "import json\n",
    "\n",
    "# INSERT BEARER TOKEN HERE\n",
    "BEARER_TOKEN = \"<ENTER YOUR BEARER TOKEN>\"\n",
    "\n",
    "#twitter search function\n",
    "def search_twitter(username, bearer_token = BEARER_TOKEN):\n",
    "    headers = {\"Authorization\": \"Bearer {}\".format(bearer_token)}\n",
    "\n",
    "    url = \"https://api.twitter.com/2/users/by/username/{}?user.fields=public_metrics,created_at,description,entities,id,location,name,pinned_tweet_id,profile_image_url,protected,url,username,verified,withheld&expansions=pinned_tweet_id\".format(username)\n",
    "    response = requests.request(\"GET\", url, headers=headers)\n",
    "\n",
    "    print(response.status_code)\n",
    "\n",
    "    if response.status_code != 200:\n",
    "        raise Exception(response.status_code, response.text)\n",
    "    return response.json()"
   ]
  },
  {
   "cell_type": "code",
   "execution_count": 9,
   "id": "13ca8e36",
   "metadata": {},
   "outputs": [],
   "source": [
    "usernames = []\n",
    "\n",
    "# Put in the twitter username file name here\n",
    "\n",
    "#FILE FORMAT\n",
    "#@User1\n",
    "#@User2\n",
    "#@User3\n",
    "\n",
    "file1 = open('handles.txt', 'r')\n",
    "lines = file1.readlines()\n",
    "\n",
    "for line in lines:\n",
    "    usernames.append(line[1:-1])"
   ]
  },
  {
   "cell_type": "code",
   "execution_count": 10,
   "id": "97d38073",
   "metadata": {},
   "outputs": [
    {
     "data": {
      "text/plain": [
       "678"
      ]
     },
     "execution_count": 10,
     "metadata": {},
     "output_type": "execute_result"
    }
   ],
   "source": [
    "# Number of usernames to search for, too many (greater than 200) can lead to too many request errors, need to wait a while\n",
    "# before running again, will need to adjust indicies accordingly\n",
    "\n",
    "len(usernames)"
   ]
  },
  {
   "cell_type": "code",
   "execution_count": 11,
   "id": "80167669",
   "metadata": {},
   "outputs": [],
   "source": [
    "all_responses = []"
   ]
  },
  {
   "cell_type": "code",
   "execution_count": 19,
   "id": "721cc9d8",
   "metadata": {
    "scrolled": true
   },
   "outputs": [
    {
     "name": "stdout",
     "output_type": "stream",
     "text": [
      "200\n",
      "{'errors': [{'parameter': 'username', 'resource_id': 'wangehts', 'value': 'wangehts', 'detail': 'User has been suspended: [wangehts].', 'title': 'Forbidden', 'resource_type': 'user', 'type': 'https://api.twitter.com/2/problems/resource-not-found'}]}\n",
      "200\n",
      "{'data': {'name': 'Facts!', 'verified': False, 'profile_image_url': 'https://pbs.twimg.com/profile_images/618524671420559360/FFF25cde_normal.jpg', 'description': 'Posting random facts that you may or may not have known before! #CrazyFacts!', 'public_metrics': {'followers_count': 35, 'following_count': 0, 'tweet_count': 74, 'listed_count': 0}, 'url': '', 'created_at': '2015-06-22T18:26:08.000Z', 'id': '3341821169', 'entities': {'description': {'hashtags': [{'start': 64, 'end': 75, 'tag': 'CrazyFacts'}]}}, 'protected': False, 'username': '_Craziest_Facts'}}\n"
     ]
    }
   ],
   "source": [
    "for username in usernames:\n",
    "\n",
    "    json_response = search_twitter(username = username, bearer_token=BEARER_TOKEN)\n",
    "    \n",
    "    print(json_response)\n",
    "    \n",
    "    all_responses.append(json_response)\n",
    "    \n",
    "#     May want to add a sleep if you want more requests to go in if you are getting too many request error\n",
    "#     time.sleep(1)\n",
    "\n",
    "\n",
    "# BELOW ARE SOME EXAMPLE RETURNS:\n",
    "# First one is where the user has been suspended/the account can't be found, the json return is different than normal\n",
    "# The second response is an ordinary response, containing the relevant information"
   ]
  },
  {
   "cell_type": "code",
   "execution_count": 13,
   "id": "95378b66",
   "metadata": {},
   "outputs": [],
   "source": [
    "# Getting dump from the response array\n",
    "json_dump = json.dumps(all_responses)"
   ]
  },
  {
   "cell_type": "code",
   "execution_count": 14,
   "id": "6f5b6086",
   "metadata": {},
   "outputs": [],
   "source": [
    "# Dumping all the data to a file \n",
    "outfile = open(\"dumps4/user_data.json\", 'w')\n",
    "outfile.write(json_dump)\n",
    "outfile.close()\n"
   ]
  },
  {
   "cell_type": "code",
   "execution_count": 15,
   "id": "12537525",
   "metadata": {},
   "outputs": [],
   "source": [
    "# This would be how you would read the data from the file\n",
    "f = open('dumps4/user_data.json')\n",
    "data = json.load(f)\n",
    "f.close()"
   ]
  },
  {
   "cell_type": "code",
   "execution_count": null,
   "id": "8e1527b7",
   "metadata": {},
   "outputs": [],
   "source": []
  }
 ],
 "metadata": {
  "kernelspec": {
   "display_name": "Python 3 (ipykernel)",
   "language": "python",
   "name": "python3"
  },
  "language_info": {
   "codemirror_mode": {
    "name": "ipython",
    "version": 3
   },
   "file_extension": ".py",
   "mimetype": "text/x-python",
   "name": "python",
   "nbconvert_exporter": "python",
   "pygments_lexer": "ipython3",
   "version": "3.9.6"
  }
 },
 "nbformat": 4,
 "nbformat_minor": 5
}
