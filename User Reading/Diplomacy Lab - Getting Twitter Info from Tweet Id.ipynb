{
 "cells": [
  {
   "cell_type": "code",
   "execution_count": null,
   "id": "da94a12d",
   "metadata": {},
   "outputs": [],
   "source": [
    "import time\n",
    "import requests\n",
    "import json\n",
    "\n",
    "# INSERT BEARER TOKEN HERE\n",
    "BEARER_TOKEN = \"AAAAAAAAAAAAAAAAAAAAAJUwYwEAAAAAE7TyF7ND4RPHwVD5YEsFtqm5wUI%3D2PAsqcrjWj8QDBg3Gn3NPspRmGLDLplj67kRAhyUvsUdNqNDUm\"\n",
    "\n",
    "#twitter search function\n",
    "def search_twitter(tweet_id, bearer_token = BEARER_TOKEN):\n",
    "    headers = {\"Authorization\": \"Bearer {}\".format(bearer_token)}\n",
    "    # Change this url to get differnt things off of Twitter Id\n",
    "    url = \"https://api.twitter.com/2/tweets/{}?user.fields=public_metrics,created_at,description,entities,id,location,name,pinned_tweet_id,profile_image_url,protected,url,username,verified,withheld\".format(tweet_id)\n",
    "    response = requests.request(\"GET\", url, headers=headers)\n",
    "\n",
    "    #print(response.status_code)\n",
    "\n",
    "    if response.status_code != 200:\n",
    "        raise Exception(response.status_code, response.text)\n",
    "    return response.json()\n",
    "\n",
    "all_responses = []\n",
    "count = 0\n",
    "# Because of the upper limit, you will need to manually increment through your array list as you parse code.\n",
    "tweet_subset = tweet_id_list[200:]\n",
    "for tweet_id in tweet_subset:\n",
    "    if count < 200:\n",
    "        json_response = search_twitter(tweet_id = tweet_id, bearer_token=BEARER_TOKEN)\n",
    "        print(json_response)\n",
    "        keys = list(json_response.keys())\n",
    "        if 'errors' not in keys:\n",
    "            all_responses.append(json_response)\n",
    "        count+=1\n",
    "\n",
    "# Getting dump from the response array\n",
    "json_dump = json.dumps(all_responses)\n",
    "# Dumping all the data to a file \n",
    "print(\"appending to file\")\n",
    "# The first time you run this, don't use 'a', use 'w' for write. After that, use append.\n",
    "outfile = open(\"C:\\\\Users\\\\Eric Liu\\\\Desktop\\\\Purdue\\\\Sophomore 2nd Semester\\\\ILS490\\\\fake_data.json\", 'a')\n",
    "outfile.write(json_dump)\n",
    "outfile.close()\n",
    "# This would be how you would read the data from the file\n",
    "#f = open('dumps4/user_data.json')\n",
    "#data = json.load(f)\n",
    "#f.close()"
   ]
  }
 ],
 "metadata": {
  "kernelspec": {
   "display_name": "Python 3",
   "language": "python",
   "name": "python3"
  },
  "language_info": {
   "codemirror_mode": {
    "name": "ipython",
    "version": 3
   },
   "file_extension": ".py",
   "mimetype": "text/x-python",
   "name": "python",
   "nbconvert_exporter": "python",
   "pygments_lexer": "ipython3",
   "version": "3.8.8"
  }
 },
 "nbformat": 4,
 "nbformat_minor": 5
}
