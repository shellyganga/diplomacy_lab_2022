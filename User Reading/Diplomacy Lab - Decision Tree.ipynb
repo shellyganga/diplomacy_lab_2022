{
 "cells": [
  {
   "cell_type": "code",
   "execution_count": 1,
   "id": "97dae231",
   "metadata": {},
   "outputs": [],
   "source": [
    "import pandas as pd"
   ]
  },
  {
   "cell_type": "code",
   "execution_count": 2,
   "id": "86c5470a",
   "metadata": {},
   "outputs": [],
   "source": [
    "data = pd.read_csv(\"C:\\\\Users\\\\Eric Liu\\\\Desktop\\\\Purdue\\\\Sophomore 2nd Semester\\\\ILS490\\\\politifact_fake.csv\")"
   ]
  },
  {
   "cell_type": "code",
   "execution_count": 3,
   "id": "eb78b0dc",
   "metadata": {},
   "outputs": [
    {
     "name": "stdout",
     "output_type": "stream",
     "text": [
      "3171\n"
     ]
    }
   ],
   "source": [
    "tweet_id_list = []\n",
    "tweet_partition = []\n",
    "offset = 0\n",
    "index = int(len(data) / 3)\n",
    "for i in range(3): \n",
    "    tweet_partition.append(data['tweet_ids'].iloc[offset:offset+index-1])\n",
    "    offset += index\n",
    "\n",
    "for fold in tweet_partition:\n",
    "    for group_tweet in data['tweet_ids'].head():\n",
    "        tweet_list = group_tweet.split(\"\\t\")\n",
    "        for tweet in tweet_list:\n",
    "            tweet_id_list.append(tweet)\n",
    "print(len(tweet_id_list))\n",
    "#tweet_subset = tweet_id_list[400:]\n",
    "#print(len(tweet_subset))"
   ]
  },
  {
   "cell_type": "code",
   "execution_count": 9,
   "id": "e8e65213",
   "metadata": {},
   "outputs": [
    {
     "name": "stdout",
     "output_type": "stream",
     "text": [
      "{'data': {'id': '972954145895297024', 'text': 'FACT CHECK: \"Did a Court Order Obama to Pay $400 Million in Restitution?\" HELL NO! Another RWNJ Lie! https://t.co/vnz6ILMdbN'}}\n",
      "{'errors': [{'resource_id': '972960153170468864', 'parameter': 'id', 'resource_type': 'tweet', 'section': 'data', 'title': 'Authorization Error', 'value': '972960153170468864', 'detail': 'Sorry, you are not authorized to see the Tweet with id: [972960153170468864].', 'type': 'https://api.twitter.com/2/problems/not-authorized-for-resource'}]}\n",
      "{'data': {'id': '972961107664097281', 'text': 'FACT CHECK: Did a Court Order Obama to Pay $400 Million in Restitution?\\n\\nhttps://t.co/MsvJEsC6Wg\\n\\nShared from my Google feed'}}\n",
      "{'data': {'id': '972964621349867520', 'text': 'FACT CHECK: Did a Court Order Obama to Pay $400 Million in Restitution? https://t.co/I9Ir557ZRk'}}\n",
      "{'data': {'id': '972965859403747329', 'text': 'FACT CHECK: Did a Court Order Obama to Pay $400 Million in Restitution?\\n\\nhttps://t.co/Pb69MhR1MR\\n\\nShared from my Google feed'}}\n",
      "{'data': {'id': '972968781914845184', 'text': 'FACT CHECK: Did a Court Order Obama to Pay $400 Million in Restitution? https://t.co/8fEgxTI3w2 Yes he gave our money away like he thought it was his all dems do this look at them now wanting to give our tax money to illegals we need it worst than them we come first not them.'}}\n",
      "{'errors': [{'value': '972973529208705024', 'detail': 'Could not find tweet with id: [972973529208705024].', 'title': 'Not Found Error', 'resource_type': 'tweet', 'parameter': 'id', 'resource_id': '972973529208705024', 'type': 'https://api.twitter.com/2/problems/resource-not-found'}]}\n",
      "{'errors': [{'resource_id': '972974817044549633', 'parameter': 'id', 'resource_type': 'tweet', 'section': 'data', 'title': 'Authorization Error', 'value': '972974817044549633', 'detail': 'Sorry, you are not authorized to see the Tweet with id: [972974817044549633].', 'type': 'https://api.twitter.com/2/problems/not-authorized-for-resource'}]}\n",
      "{'data': {'id': '972976846987055104', 'text': 'FACT CHECK: Did a Court Order Obama to Pay $400 Million in Restitution? https://t.co/FNQSx93crb'}}\n",
      "{'data': {'id': '972978245124612096', 'text': 'Did a Court Order Obama to Pay $400 Million in Restitution? https://t.co/UZeeHDJcs8 https://t.co/Hoj1pIfMvW'}}\n",
      "{'errors': [{'resource_id': '972982020480512001', 'parameter': 'id', 'resource_type': 'tweet', 'section': 'data', 'title': 'Authorization Error', 'value': '972982020480512001', 'detail': 'Sorry, you are not authorized to see the Tweet with id: [972982020480512001].', 'type': 'https://api.twitter.com/2/problems/not-authorized-for-resource'}]}\n",
      "{'data': {'id': '972982714134646784', 'text': \"FACT CHECK: Did a Court Order Obama to Pay $400 Million in Restitution?\\n\\n😏Sane people w/a brain would know it was not true! 🙄\\n\\n@realDonaldTrump \\nNow ya can't say ya didn't know it was true ya moron 😠 https://t.co/7YFHfQWFD9\"}}\n",
      "{'data': {'id': '972988389577449472', 'text': 'FACT CHECK: Did a Court Order Obama to Pay $400 Million in Restitution? https://t.co/szsstIVdJX'}}\n",
      "{'data': {'id': '972995356907651072', 'text': 'Did a Court Order Obama to Pay $400 Million in Restitution? https://t.co/Lisdc2psJQ https://t.co/mOOei8ci1F'}}\n",
      "{'errors': [{'value': '972995729844301824', 'detail': 'Could not find tweet with id: [972995729844301824].', 'title': 'Not Found Error', 'resource_type': 'tweet', 'parameter': 'id', 'resource_id': '972995729844301824', 'type': 'https://api.twitter.com/2/problems/resource-not-found'}]}\n",
      "{'errors': [{'value': '972997038945292290', 'detail': 'Could not find tweet with id: [972997038945292290].', 'title': 'Not Found Error', 'resource_type': 'tweet', 'parameter': 'id', 'resource_id': '972997038945292290', 'type': 'https://api.twitter.com/2/problems/resource-not-found'}]}\n",
      "{'errors': [{'resource_id': '973002144394678272', 'parameter': 'id', 'resource_type': 'tweet', 'section': 'data', 'title': 'Authorization Error', 'value': '973002144394678272', 'detail': 'Sorry, you are not authorized to see the Tweet with id: [973002144394678272].', 'type': 'https://api.twitter.com/2/problems/not-authorized-for-resource'}]}\n",
      "{'data': {'id': '973002416592490497', 'text': 'FACT CHECK: Did a Court Order Obama to Pay $400 Million in Restitution?\\n\\nhttps://t.co/VHWcs51RgB\\n\\nShared from my Google feed'}}\n",
      "{'data': {'id': '973002934190592001', 'text': 'FACT CHECK: Did a Court Order Obama to Pay $400 Million in Restitution? \\n\\nNo. No. No. No...\\n\\nhttps://t.co/1Cp2WUwcXo'}}\n",
      "{'data': {'id': '973006938005999618', 'text': 'FACT CHECK: Did a Court Order Obama to Pay $400 Million in Restitution? https://t.co/aSMq3VrMMr FALSE!'}}\n",
      "{'errors': [{'resource_id': '973010869574619137', 'parameter': 'id', 'resource_type': 'tweet', 'section': 'data', 'title': 'Authorization Error', 'value': '973010869574619137', 'detail': 'Sorry, you are not authorized to see the Tweet with id: [973010869574619137].', 'type': 'https://api.twitter.com/2/problems/not-authorized-for-resource'}]}\n",
      "{'errors': [{'resource_id': '973013373955821569', 'parameter': 'id', 'resource_type': 'tweet', 'section': 'data', 'title': 'Authorization Error', 'value': '973013373955821569', 'detail': 'Sorry, you are not authorized to see the Tweet with id: [973013373955821569].', 'type': 'https://api.twitter.com/2/problems/not-authorized-for-resource'}]}\n",
      "{'data': {'id': '973014581537853440', 'text': 'FACT CHECK: Did a Court Order Obama to Pay $400 Million in Restitution? https://t.co/owCRViRF33'}}\n",
      "{'data': {'id': '973014622952304641', 'text': 'FACT CHECK: Did a Court Order Obama to Pay $400 Million in Restitution? NO https://t.co/uH5JgBWOw7'}}\n",
      "{'data': {'id': '973015627903336448', 'text': 'FACT CHECK: Did a Court Order Obama to Pay $400 Million in Restitution? https://t.co/bd5fmBQObA'}}\n",
      "{'errors': [{'value': '973016085401280512', 'detail': 'Could not find tweet with id: [973016085401280512].', 'title': 'Not Found Error', 'resource_type': 'tweet', 'parameter': 'id', 'resource_id': '973016085401280512', 'type': 'https://api.twitter.com/2/problems/resource-not-found'}]}\n",
      "{'data': {'id': '973018531833946112', 'text': 'FACT CHECK: Did a Court Order Obama to Pay $400 Million in Restitution? https://t.co/1Uwm6hbOSp Once again right wing conspiracy is given a big fat FALSE🛑‼️ #ConspiracyWeary 🙄'}}\n",
      "{'data': {'id': '973021886673166336', 'text': 'FACT CHECK: Did a Court Order Obama to Pay $400 Million in Restitution?\\n\\nhttps://t.co/H72ujNrgtt\\n\\nShared from my Google feed'}}\n",
      "{'data': {'id': '973029904920055808', 'text': 'FACT CHECK: Did a Court Order Obama to Pay $400 Million in Restitution? https://t.co/8vMtIAcSLG'}}\n",
      "{'data': {'id': '973034380498120704', 'text': 'FACT CHECK: Did a Court Order Obama to Pay $400 Million in Restitution? https://t.co/zMUST0ptRC'}}\n",
      "{'data': {'id': '973041504884350976', 'text': 'FACT CHECK: Did a Court Order Obama to Pay $400 Million in Restitution? https://t.co/rM6qJsvYW2'}}\n",
      "{'data': {'id': '973052197192851456', 'text': '\"FACT CHECK: Did a Court Order Obama to Pay $400 Million in Restitution?\" (No) https://t.co/Fj6MHudFYH'}}\n",
      "{'errors': [{'resource_id': '973059393431404544', 'parameter': 'id', 'resource_type': 'tweet', 'section': 'data', 'title': 'Authorization Error', 'value': '973059393431404544', 'detail': 'Sorry, you are not authorized to see the Tweet with id: [973059393431404544].', 'type': 'https://api.twitter.com/2/problems/not-authorized-for-resource'}]}\n",
      "{'errors': [{'value': '973061204498292737', 'detail': 'Could not find tweet with id: [973061204498292737].', 'title': 'Not Found Error', 'resource_type': 'tweet', 'parameter': 'id', 'resource_id': '973061204498292737', 'type': 'https://api.twitter.com/2/problems/resource-not-found'}]}\n",
      "{'errors': [{'resource_id': '973089403152338944', 'parameter': 'id', 'resource_type': 'tweet', 'section': 'data', 'title': 'Authorization Error', 'value': '973089403152338944', 'detail': 'Sorry, you are not authorized to see the Tweet with id: [973089403152338944].', 'type': 'https://api.twitter.com/2/problems/not-authorized-for-resource'}]}\n",
      "{'data': {'id': '973132971678097408', 'text': 'FACT CHECK: Did a Court Order Obama to Pay $400 Million in Restitution? https://t.co/fUhVsdmUzi\\nCOMPLETELY UNTRUE'}}\n",
      "{'data': {'id': '973159690983981056', 'text': 'Did a Court Order Obama to Pay $400 Million in Restitution? https://t.co/Mz8OuJv7zL #HomeInvasion'}}\n"
     ]
    },
    {
     "name": "stdout",
     "output_type": "stream",
     "text": [
      "{'data': {'id': '973176458964283392', 'text': 'FACT CHECK: Did a Court Order Obama to Pay $400 Million in Restitution?\\n\\nhttps://t.co/pwtbuj0Ms8\\n\\nShared from my Google feed'}}\n",
      "{'errors': [{'resource_id': '973177798482321408', 'parameter': 'id', 'resource_type': 'tweet', 'section': 'data', 'title': 'Authorization Error', 'value': '973177798482321408', 'detail': 'Sorry, you are not authorized to see the Tweet with id: [973177798482321408].', 'type': 'https://api.twitter.com/2/problems/not-authorized-for-resource'}]}\n",
      "{'errors': [{'value': '973189167457980418', 'detail': 'Could not find tweet with id: [973189167457980418].', 'title': 'Not Found Error', 'resource_type': 'tweet', 'parameter': 'id', 'resource_id': '973189167457980418', 'type': 'https://api.twitter.com/2/problems/resource-not-found'}]}\n",
      "{'data': {'id': '973202052397584386', 'text': 'Who believes this shit in the first place? FACT CHECK: Did a Court Order Obama to Pay $400 Million in Restitution? https://t.co/31vBi8y8t7'}}\n",
      "{'data': {'id': '973205058820231170', 'text': 'FACT CHECK: Did a Court Order Obama to Pay $400 Million in Restitution?\\n\\nhttps://t.co/Xq9ZN0Kycq\\n\\nShared from my Google feed'}}\n",
      "{'data': {'id': '973214011989753856', 'text': 'FACT CHECK: Did a Court Order Obama to Pay $400 Million in Restitution? https://t.co/RIQGTW6bWM'}}\n",
      "{'data': {'id': '973249390503702528', 'text': 'FACT CHECK: Did a Court Order Obama to Pay $400 Million in Restitution? https://t.co/XgQ5xCudhw'}}\n",
      "{'data': {'id': '973249408677576704', 'text': 'FACT CHECK: Did a Court Order Obama to Pay $400 Million in Restitution? https://t.co/VieG8Ps9nu'}}\n",
      "{'data': {'id': '973259482896781312', 'text': 'FACT CHECK: Did a Court Order Obama to Pay $400 Million in Restitution? https://t.co/eA4izVH7Z3'}}\n",
      "{'data': {'id': '973263735497416704', 'text': 'Fact Check: Did a court order Obama to pay $400 million in restitution?\\n\\nFull Report: https://t.co/oUTiORq1ld https://t.co/M61C3IHTsV'}}\n",
      "{'data': {'id': '973264596151754752', 'text': 'FACT CHECK: Did a Court Order Obama to Pay $400 Million in Restitution?\\n\\nShared from my Google feed'}}\n",
      "{'data': {'id': '973276248184164360', 'text': 'FACT CHECK: Did a Court Order Obama to Pay $400 Million in Restitution? No!!! See link more nonsense about Obama SMH https://t.co/pjJSUzyI7A'}}\n",
      "{'data': {'id': '973277800995217408', 'text': 'FACT CHECK: Did a Court Order Obama to Pay $400 Million in Restitution? https://t.co/HkzTSm4S8c'}}\n"
     ]
    },
    {
     "ename": "Exception",
     "evalue": "(429, '{\"title\":\"Too Many Requests\",\"detail\":\"Too Many Requests\",\"type\":\"about:blank\",\"status\":429}')",
     "output_type": "error",
     "traceback": [
      "\u001b[1;31m---------------------------------------------------------------------------\u001b[0m",
      "\u001b[1;31mException\u001b[0m                                 Traceback (most recent call last)",
      "\u001b[1;32m<ipython-input-9-31dc14c004e0>\u001b[0m in \u001b[0;36m<module>\u001b[1;34m\u001b[0m\n\u001b[0;32m     23\u001b[0m \u001b[1;32mfor\u001b[0m \u001b[0mtweet_id\u001b[0m \u001b[1;32min\u001b[0m \u001b[0mtweet_subset\u001b[0m\u001b[1;33m:\u001b[0m\u001b[1;33m\u001b[0m\u001b[1;33m\u001b[0m\u001b[0m\n\u001b[0;32m     24\u001b[0m     \u001b[1;32mif\u001b[0m \u001b[0mcount\u001b[0m \u001b[1;33m<\u001b[0m \u001b[1;36m200\u001b[0m\u001b[1;33m:\u001b[0m\u001b[1;33m\u001b[0m\u001b[1;33m\u001b[0m\u001b[0m\n\u001b[1;32m---> 25\u001b[1;33m         \u001b[0mjson_response\u001b[0m \u001b[1;33m=\u001b[0m \u001b[0msearch_twitter\u001b[0m\u001b[1;33m(\u001b[0m\u001b[0mtweet_id\u001b[0m \u001b[1;33m=\u001b[0m \u001b[0mtweet_id\u001b[0m\u001b[1;33m,\u001b[0m \u001b[0mbearer_token\u001b[0m\u001b[1;33m=\u001b[0m\u001b[0mBEARER_TOKEN\u001b[0m\u001b[1;33m)\u001b[0m\u001b[1;33m\u001b[0m\u001b[1;33m\u001b[0m\u001b[0m\n\u001b[0m\u001b[0;32m     26\u001b[0m         \u001b[0mprint\u001b[0m\u001b[1;33m(\u001b[0m\u001b[0mjson_response\u001b[0m\u001b[1;33m)\u001b[0m\u001b[1;33m\u001b[0m\u001b[1;33m\u001b[0m\u001b[0m\n\u001b[0;32m     27\u001b[0m         \u001b[0mkeys\u001b[0m \u001b[1;33m=\u001b[0m \u001b[0mlist\u001b[0m\u001b[1;33m(\u001b[0m\u001b[0mjson_response\u001b[0m\u001b[1;33m.\u001b[0m\u001b[0mkeys\u001b[0m\u001b[1;33m(\u001b[0m\u001b[1;33m)\u001b[0m\u001b[1;33m)\u001b[0m\u001b[1;33m\u001b[0m\u001b[1;33m\u001b[0m\u001b[0m\n",
      "\u001b[1;32m<ipython-input-9-31dc14c004e0>\u001b[0m in \u001b[0;36msearch_twitter\u001b[1;34m(tweet_id, bearer_token)\u001b[0m\n\u001b[0;32m     15\u001b[0m \u001b[1;33m\u001b[0m\u001b[0m\n\u001b[0;32m     16\u001b[0m     \u001b[1;32mif\u001b[0m \u001b[0mresponse\u001b[0m\u001b[1;33m.\u001b[0m\u001b[0mstatus_code\u001b[0m \u001b[1;33m!=\u001b[0m \u001b[1;36m200\u001b[0m\u001b[1;33m:\u001b[0m\u001b[1;33m\u001b[0m\u001b[1;33m\u001b[0m\u001b[0m\n\u001b[1;32m---> 17\u001b[1;33m         \u001b[1;32mraise\u001b[0m \u001b[0mException\u001b[0m\u001b[1;33m(\u001b[0m\u001b[0mresponse\u001b[0m\u001b[1;33m.\u001b[0m\u001b[0mstatus_code\u001b[0m\u001b[1;33m,\u001b[0m \u001b[0mresponse\u001b[0m\u001b[1;33m.\u001b[0m\u001b[0mtext\u001b[0m\u001b[1;33m)\u001b[0m\u001b[1;33m\u001b[0m\u001b[1;33m\u001b[0m\u001b[0m\n\u001b[0m\u001b[0;32m     18\u001b[0m     \u001b[1;32mreturn\u001b[0m \u001b[0mresponse\u001b[0m\u001b[1;33m.\u001b[0m\u001b[0mjson\u001b[0m\u001b[1;33m(\u001b[0m\u001b[1;33m)\u001b[0m\u001b[1;33m\u001b[0m\u001b[1;33m\u001b[0m\u001b[0m\n\u001b[0;32m     19\u001b[0m \u001b[1;33m\u001b[0m\u001b[0m\n",
      "\u001b[1;31mException\u001b[0m: (429, '{\"title\":\"Too Many Requests\",\"detail\":\"Too Many Requests\",\"type\":\"about:blank\",\"status\":429}')"
     ]
    }
   ],
   "source": [
    "import time\n",
    "import requests\n",
    "import json\n",
    "\n",
    "# INSERT BEARER TOKEN HERE\n",
    "BEARER_TOKEN = \"AAAAAAAAAAAAAAAAAAAAAJUwYwEAAAAAE7TyF7ND4RPHwVD5YEsFtqm5wUI%3D2PAsqcrjWj8QDBg3Gn3NPspRmGLDLplj67kRAhyUvsUdNqNDUm\"\n",
    "\n",
    "#twitter search function\n",
    "def search_twitter(tweet_id, bearer_token = BEARER_TOKEN):\n",
    "    headers = {\"Authorization\": \"Bearer {}\".format(bearer_token)}\n",
    "    url = \"https://api.twitter.com/2/tweets/{}?user.fields=public_metrics,created_at,description,entities,id,location,name,pinned_tweet_id,profile_image_url,protected,url,username,verified,withheld\".format(tweet_id)\n",
    "    response = requests.request(\"GET\", url, headers=headers)\n",
    "\n",
    "    #print(response.status_code)\n",
    "\n",
    "    if response.status_code != 200:\n",
    "        raise Exception(response.status_code, response.text)\n",
    "    return response.json()\n",
    "\n",
    "all_responses = []\n",
    "count = 0\n",
    "tweet_subset = tweet_id_list[200:]\n",
    "for tweet_id in tweet_subset:\n",
    "    if count < 200:\n",
    "        json_response = search_twitter(tweet_id = tweet_id, bearer_token=BEARER_TOKEN)\n",
    "        print(json_response)\n",
    "        keys = list(json_response.keys())\n",
    "        if 'errors' not in keys:\n",
    "            all_responses.append(json_response)\n",
    "        count+=1\n",
    "\n",
    "# Getting dump from the response array\n",
    "json_dump = json.dumps(all_responses)\n",
    "# Dumping all the data to a file \n",
    "print(\"appending to file\")\n",
    "outfile = open(\"C:\\\\Users\\\\Eric Liu\\\\Desktop\\\\Purdue\\\\Sophomore 2nd Semester\\\\ILS490\\\\fake_data.json\", 'a')\n",
    "outfile.write(json_dump)\n",
    "outfile.close()\n",
    "# This would be how you would read the data from the file\n",
    "#f = open('dumps4/user_data.json')\n",
    "#data = json.load(f)\n",
    "#f.close()\n",
    " "
   ]
  },
  {
   "cell_type": "code",
   "execution_count": 10,
   "id": "0f74e57e",
   "metadata": {},
   "outputs": [
    {
     "name": "stdout",
     "output_type": "stream",
     "text": [
      "35\n",
      "50\n"
     ]
    }
   ],
   "source": [
    "print(len(all_responses))\n",
    "print(count)"
   ]
  },
  {
   "cell_type": "code",
   "execution_count": 14,
   "id": "64f5b32e",
   "metadata": {},
   "outputs": [
    {
     "name": "stdout",
     "output_type": "stream",
     "text": [
      "568\n"
     ]
    }
   ],
   "source": [
    "data = pd.read_json(\"C:\\\\Users\\\\Eric Liu\\\\Desktop\\\\Purdue\\\\Sophomore 2nd Semester\\\\ILS490\\\\user_data.json\", orient=\"records\")\n",
    "info = data.iloc[:,1]\n",
    "\n",
    "user_list = []\n",
    "created_at = []\n",
    "verified = []\n",
    "protected = []\n",
    "followers_count = []\n",
    "following_count = []\n",
    "tweet_count = []\n",
    "listed_count = []\n",
    "for stuff in info:\n",
    "    if not pd.isna(stuff):\n",
    "        user_list.append(stuff['username'])\n",
    "        created_at.append(stuff['created_at'])\n",
    "        verified.append(stuff['verified'])   \n",
    "        protected.append(stuff['protected'])\n",
    "        followers_count.append(stuff['public_metrics']['followers_count'])\n",
    "        following_count.append(stuff['public_metrics']['following_count'])\n",
    "        tweet_count.append(stuff['public_metrics']['tweet_count'])\n",
    "        listed_count.append(stuff['public_metrics']['listed_count'])\n",
    "\n",
    "new_df = pd.DataFrame(user_list, columns=['User'])\n",
    "new_df['Created At'] = created_at\n",
    "new_df['Verified'] = verified\n",
    "new_df['Protected'] = protected\n",
    "new_df['Followers Count'] = followers_count\n",
    "new_df['Following Count'] = following_count\n",
    "new_df['Tweet Count'] = tweet_count\n",
    "new_df['Listed Count'] = listed_count\n",
    "new_df['Misinformation'] = [1] * len(new_df)\n",
    "new_df['Misinformation'] = 'Fake'\n",
    "print(len(new_df))"
   ]
  },
  {
   "cell_type": "code",
   "execution_count": 12,
   "id": "f41297c0",
   "metadata": {},
   "outputs": [
    {
     "name": "stdout",
     "output_type": "stream",
     "text": [
      "108\n"
     ]
    }
   ],
   "source": [
    "check_json = pd.read_json(\"C:\\\\Users\\\\Eric Liu\\\\Desktop\\\\Purdue\\\\Sophomore 2nd Semester\\\\ILS490\\\\fake_data.json\", orient=\"records\")\n",
    "print(len(check_json))"
   ]
  },
  {
   "cell_type": "code",
   "execution_count": null,
   "id": "b6fad890",
   "metadata": {},
   "outputs": [],
   "source": []
  }
 ],
 "metadata": {
  "kernelspec": {
   "display_name": "Python 3",
   "language": "python",
   "name": "python3"
  },
  "language_info": {
   "codemirror_mode": {
    "name": "ipython",
    "version": 3
   },
   "file_extension": ".py",
   "mimetype": "text/x-python",
   "name": "python",
   "nbconvert_exporter": "python",
   "pygments_lexer": "ipython3",
   "version": "3.8.8"
  }
 },
 "nbformat": 4,
 "nbformat_minor": 5
}
