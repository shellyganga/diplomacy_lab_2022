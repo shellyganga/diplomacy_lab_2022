{
 "cells": [
  {
   "cell_type": "code",
   "execution_count": 2,
   "id": "397503fd",
   "metadata": {},
   "outputs": [],
   "source": [
    "import data_pulling"
   ]
  },
  {
   "cell_type": "code",
   "execution_count": 3,
   "id": "c35e5680",
   "metadata": {},
   "outputs": [],
   "source": [
    "from datetime import datetime"
   ]
  },
  {
   "cell_type": "code",
   "execution_count": 4,
   "id": "eff315b1",
   "metadata": {},
   "outputs": [],
   "source": [
    "import matplotlib.pyplot as plt"
   ]
  },
  {
   "cell_type": "code",
   "execution_count": 5,
   "id": "750f4149",
   "metadata": {},
   "outputs": [],
   "source": [
    "import numpy as np"
   ]
  },
  {
   "cell_type": "code",
   "execution_count": 5,
   "id": "c643e7ca",
   "metadata": {},
   "outputs": [],
   "source": [
    "# Dates need to be in this format\n",
    "\n",
    "words = \"ukraine%20invasion\"\n",
    "start = \"2022-03-05T00:00:00.000Z\"\n",
    "end = \"2022-03-06T23:55:00.000Z\""
   ]
  },
  {
   "cell_type": "code",
   "execution_count": 14,
   "id": "52b6fae3",
   "metadata": {},
   "outputs": [],
   "source": [
    "# tweets = data_pulling.get_tweets(words, start, end, debug = False)\n",
    "tweets = data_pulling.read_jsons('ukraine_feb_21/*')"
   ]
  },
  {
   "cell_type": "code",
   "execution_count": 12,
   "id": "5471c45e",
   "metadata": {},
   "outputs": [],
   "source": [
    "user_ids = [tweet['author_id'] for tweet in tweets]"
   ]
  },
  {
   "cell_type": "code",
   "execution_count": 15,
   "id": "a0288f0b",
   "metadata": {},
   "outputs": [],
   "source": [
    "# users = data_pulling.get_users(user_ids)\n",
    "users = data_pulling.read_json('ukraine_feb_21_user_data/user_data.json')"
   ]
  },
  {
   "cell_type": "code",
   "execution_count": 16,
   "id": "e04f0fdf",
   "metadata": {},
   "outputs": [],
   "source": [
    "tweets = data_pulling.attach_users_to_tweets(tweets, users)\n",
    "# tweets = data_pulling.remove_none_ids(tweets)\n",
    "# tweets = data_pulling.remove_zero_followers(tweets)\n",
    "tweets.sort(key = data_pulling.date_score)"
   ]
  },
  {
   "cell_type": "code",
   "execution_count": 17,
   "id": "74084b85",
   "metadata": {},
   "outputs": [
    {
     "data": {
      "text/plain": [
       "{'text': 'The situation in Ukraine is looking increasingly dire but what happens if Putin does something less than a full invasion.  @SangerNYT, @LuteDoug, @TheresaAFallon, and @djrothkopf discuss on our latest episode.  Listen to their analysis here: https://t.co/4hpkzZs5AH https://t.co/rWHQ4qFL64',\n",
       " 'public_metrics': {'retweet_count': 1,\n",
       "  'reply_count': 0,\n",
       "  'like_count': 5,\n",
       "  'quote_count': 0},\n",
       " 'source': 'TweetDeck',\n",
       " 'created_at': '2022-02-21T00:00:01.000Z',\n",
       " 'author_id': '867798376703766530',\n",
       " 'id': '1495548828904144902',\n",
       " 'account_metrics': {'description': 'Official Twitter account of The DSR Network, producers of Deep State Radio Podcast. Listen to the podcast here: https://t.co/CWeW9ztPUm',\n",
       "  'entities': {'url': {'urls': [{'start': 0,\n",
       "      'end': 23,\n",
       "      'url': 'https://t.co/xwDPiux0Y7',\n",
       "      'expanded_url': 'http://deepstateradionetwork.com',\n",
       "      'display_url': 'deepstateradionetwork.com'}]},\n",
       "   'description': {'urls': [{'start': 112,\n",
       "      'end': 135,\n",
       "      'url': 'https://t.co/CWeW9ztPUm',\n",
       "      'expanded_url': 'https://podcasts.apple.com/us/podcast/deep-state',\n",
       "      'display_url': 'podcasts.apple.com/us/podcast/dee…'}]}},\n",
       "  'profile_image_url': 'https://pbs.twimg.com/profile_images/1060560129735589888/-j-bRj-7_normal.jpg',\n",
       "  'verified': False,\n",
       "  'created_at': '2017-05-25T17:43:50.000Z',\n",
       "  'id': '867798376703766530',\n",
       "  'url': 'https://t.co/xwDPiux0Y7',\n",
       "  'public_metrics': {'followers_count': 13905,\n",
       "   'following_count': 622,\n",
       "   'tweet_count': 4656,\n",
       "   'listed_count': 175},\n",
       "  'protected': False,\n",
       "  'location': 'New York, New York',\n",
       "  'name': 'Deep State Radio',\n",
       "  'username': 'deepstateradio'}}"
      ]
     },
     "execution_count": 17,
     "metadata": {},
     "output_type": "execute_result"
    }
   ],
   "source": [
    "tweets[0]"
   ]
  },
  {
   "cell_type": "code",
   "execution_count": 18,
   "id": "5a5402d3",
   "metadata": {},
   "outputs": [],
   "source": [
    "hist_data = [datetime.strptime(tweet['created_at'], '%Y-%m-%dT%H:%M:%S.%fZ') for tweet in tweets]"
   ]
  },
  {
   "cell_type": "code",
   "execution_count": null,
   "id": "8f3cd304",
   "metadata": {},
   "outputs": [],
   "source": []
  }
 ],
 "metadata": {
  "kernelspec": {
   "display_name": "Python 3 (ipykernel)",
   "language": "python",
   "name": "python3"
  },
  "language_info": {
   "codemirror_mode": {
    "name": "ipython",
    "version": 3
   },
   "file_extension": ".py",
   "mimetype": "text/x-python",
   "name": "python",
   "nbconvert_exporter": "python",
   "pygments_lexer": "ipython3",
   "version": "3.9.6"
  }
 },
 "nbformat": 4,
 "nbformat_minor": 5
}
