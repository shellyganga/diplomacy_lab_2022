{
 "cells": [
  {
   "cell_type": "code",
   "execution_count": 1,
   "id": "397503fd",
   "metadata": {},
   "outputs": [],
   "source": [
    "import data_pulling"
   ]
  },
  {
   "cell_type": "code",
   "execution_count": 2,
   "id": "c35e5680",
   "metadata": {},
   "outputs": [],
   "source": [
    "from datetime import datetime"
   ]
  },
  {
   "cell_type": "code",
   "execution_count": 3,
   "id": "eff315b1",
   "metadata": {},
   "outputs": [],
   "source": [
    "import matplotlib.pyplot as plt"
   ]
  },
  {
   "cell_type": "code",
   "execution_count": 4,
   "id": "750f4149",
   "metadata": {},
   "outputs": [],
   "source": [
    "import numpy as np"
   ]
  },
  {
   "cell_type": "code",
   "execution_count": 5,
   "id": "c643e7ca",
   "metadata": {},
   "outputs": [],
   "source": [
    "# Dates need to be in this format\n",
    "\n",
    "words = \"ukraine%20invasion\"\n",
    "start = \"2022-03-05T00:00:00.000Z\"\n",
    "end = \"2022-03-06T23:55:00.000Z\""
   ]
  },
  {
   "cell_type": "code",
   "execution_count": 7,
   "id": "52b6fae3",
   "metadata": {},
   "outputs": [
    {
     "ename": "TypeError",
     "evalue": "'NoneType' object is not iterable",
     "output_type": "error",
     "traceback": [
      "\u001b[1;31m---------------------------------------------------------------------------\u001b[0m",
      "\u001b[1;31mTypeError\u001b[0m                                 Traceback (most recent call last)",
      "\u001b[1;32m~\\AppData\\Local\\Temp/ipykernel_10012/242906118.py\u001b[0m in \u001b[0;36m<module>\u001b[1;34m\u001b[0m\n\u001b[0;32m      1\u001b[0m \u001b[1;31m# tweets = data_pulling.get_tweets(words, start, end, debug = False)\u001b[0m\u001b[1;33m\u001b[0m\u001b[1;33m\u001b[0m\u001b[1;33m\u001b[0m\u001b[0m\n\u001b[0;32m      2\u001b[0m \u001b[0mtweets\u001b[0m \u001b[1;33m=\u001b[0m \u001b[0mdata_pulling\u001b[0m\u001b[1;33m.\u001b[0m\u001b[0msave_json\u001b[0m\u001b[1;33m(\u001b[0m\u001b[0mtweets\u001b[0m\u001b[1;33m,\u001b[0m \u001b[1;34m'test_json.json'\u001b[0m\u001b[1;33m)\u001b[0m\u001b[1;33m\u001b[0m\u001b[1;33m\u001b[0m\u001b[0m\n\u001b[1;32m----> 3\u001b[1;33m \u001b[0muser_ids\u001b[0m \u001b[1;33m=\u001b[0m \u001b[1;33m[\u001b[0m\u001b[0mtweet\u001b[0m\u001b[1;33m[\u001b[0m\u001b[1;34m'author_id'\u001b[0m\u001b[1;33m]\u001b[0m \u001b[1;32mfor\u001b[0m \u001b[0mtweet\u001b[0m \u001b[1;32min\u001b[0m \u001b[0mtweets\u001b[0m\u001b[1;33m]\u001b[0m\u001b[1;33m\u001b[0m\u001b[1;33m\u001b[0m\u001b[0m\n\u001b[0m\u001b[0;32m      4\u001b[0m \u001b[1;31m# users = data_pulling.get_users(user_ids)\u001b[0m\u001b[1;33m\u001b[0m\u001b[1;33m\u001b[0m\u001b[1;33m\u001b[0m\u001b[0m\n",
      "\u001b[1;31mTypeError\u001b[0m: 'NoneType' object is not iterable"
     ]
    }
   ],
   "source": [
    "tweets = data_pulling.get_tweets(words, start, end, debug = False)\n",
    "data_pulling.save_json(tweets, 'test_json.json')\n",
    "user_ids = [tweet['author_id'] for tweet in tweets]\n",
    "# users = data_pulling.get_users(user_ids)"
   ]
  },
  {
   "cell_type": "code",
   "execution_count": 16,
   "id": "40b7caf6",
   "metadata": {},
   "outputs": [],
   "source": [
    "tweets = data_pulling.attach_users_to_tweets(tweets, users)\n",
    "tweets.sort(key = data_pulling.date_score)"
   ]
  },
  {
   "cell_type": "code",
   "execution_count": 18,
   "id": "7be0f12b",
   "metadata": {},
   "outputs": [],
   "source": [
    "hist_data = [datetime.strptime(tweet['created_at'], '%Y-%m-%dT%H:%M:%S.%fZ') for tweet in tweets]"
   ]
  },
  {
   "cell_type": "code",
   "execution_count": 23,
   "id": "b8e46376",
   "metadata": {},
   "outputs": [
    {
     "data": {
      "image/png": "[encoded data removed]",
      "text/plain": [
       "<Figure size 432x288 with 1 Axes>"
      ]
     },
     "metadata": {
      "needs_background": "light"
     },
     "output_type": "display_data"
    }
   ],
   "source": [
    "plt.hist(hist_data, bins = 400)\n",
    "plt.show()"
   ]
  },
  {
   "cell_type": "code",
   "execution_count": null,
   "id": "72de88a5",
   "metadata": {},
   "outputs": [],
   "source": []
  }
 ],
 "metadata": {
  "kernelspec": {
   "display_name": "Python 3 (ipykernel)",
   "language": "python",
   "name": "python3"
  },
  "language_info": {
   "codemirror_mode": {
    "name": "ipython",
    "version": 3
   },
   "file_extension": ".py",
   "mimetype": "text/x-python",
   "name": "python",
   "nbconvert_exporter": "python",
   "pygments_lexer": "ipython3",
   "version": "3.9.6"
  }
 },
 "nbformat": 4,
 "nbformat_minor": 5
}
