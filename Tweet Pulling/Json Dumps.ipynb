{
 "cells": [
  {
   "cell_type": "code",
   "execution_count": 1,
   "id": "0d416f33",
   "metadata": {},
   "outputs": [],
   "source": [
    "import json\n",
    "import glob"
   ]
  },
  {
   "cell_type": "code",
   "execution_count": 2,
   "id": "ba9b72d9",
   "metadata": {},
   "outputs": [],
   "source": [
    "import matplotlib.pyplot as plt\n",
    "from datetime import datetime\n",
    "import pandas as pd"
   ]
  },
  {
   "cell_type": "code",
   "execution_count": 3,
   "id": "3a6b6bb2",
   "metadata": {},
   "outputs": [],
   "source": [
    "import numpy as np"
   ]
  },
  {
   "cell_type": "code",
   "execution_count": 23,
   "id": "3269aafd",
   "metadata": {},
   "outputs": [],
   "source": [
    "# files = glob.glob('ukraine_feb_21/*.json')\n",
    "files = glob.glob('dumps2/*.json')"
   ]
  },
  {
   "cell_type": "code",
   "execution_count": 24,
   "id": "d3104fc5",
   "metadata": {},
   "outputs": [],
   "source": [
    "responses = []\n",
    "\n",
    "for file in files:\n",
    "    f = open(file)\n",
    "    data = json.load(f)\n",
    "    responses += data['data']"
   ]
  },
  {
   "cell_type": "code",
   "execution_count": 25,
   "id": "23d4ba53",
   "metadata": {},
   "outputs": [],
   "source": [
    "def date_score(metric):\n",
    "    return datetime.strptime(metric['created_at'], '%Y-%m-%dT%H:%M:%S.%fZ').timestamp()"
   ]
  },
  {
   "cell_type": "code",
   "execution_count": 26,
   "id": "7b3e680e",
   "metadata": {},
   "outputs": [],
   "source": [
    "def metric_score(metric):\n",
    "    return sum(metric['public_metrics'][key] for key in metric['public_metrics'])"
   ]
  },
  {
   "cell_type": "code",
   "execution_count": 27,
   "id": "0e61dbd1",
   "metadata": {},
   "outputs": [],
   "source": [
    "responses.sort(key = date_score)"
   ]
  },
  {
   "cell_type": "code",
   "execution_count": 28,
   "id": "e481202f",
   "metadata": {},
   "outputs": [
    {
     "data": {
      "text/plain": [
       "{'text': \"Student accuses Purdue police officer of using 'excessive force' | Campus | https://t.co/1nYtfJtXpj #fireselke #purdue #indiana https://t.co/5GwyQF4G2w\",\n",
       " 'source': 'Twitter for iPhone',\n",
       " 'created_at': '2022-02-10T23:50:08.000Z',\n",
       " 'public_metrics': {'retweet_count': 0,\n",
       "  'reply_count': 0,\n",
       "  'like_count': 0,\n",
       "  'quote_count': 0},\n",
       " 'id': '1491922462002626580',\n",
       " 'author_id': '42978665'}"
      ]
     },
     "execution_count": 28,
     "metadata": {},
     "output_type": "execute_result"
    }
   ],
   "source": [
    "responses[-1]"
   ]
  },
  {
   "cell_type": "code",
   "execution_count": 60,
   "id": "6c7f9d9a",
   "metadata": {},
   "outputs": [],
   "source": [
    "def binify(responses, num_bins, date_search_value):\n",
    "    \n",
    "    search_position = datetime.strptime(date_search_value, '%Y-%m-%dT%H:%M:%S.%fZ').timestamp()\n",
    "    \n",
    "    times_and_metrics = []\n",
    "    \n",
    "    date_position = 0\n",
    "\n",
    "    for tweet in responses:\n",
    "        times_and_metrics.append([date_score(tweet), metric_score(tweet)])\n",
    "        \n",
    "        if date_score(tweet) < search_position: date_position += 1\n",
    "            \n",
    "    start = min([val[0] for val in times_and_metrics])\n",
    "    end = max([val[0] for val in times_and_metrics])\n",
    "    \n",
    "    shift = (end - start) / num_bins\n",
    "    \n",
    "    x_pos = [start + (i + 1) * shift for i in range(num_bins)]\n",
    "    \n",
    "    y_pos = []\n",
    "    \n",
    "    max_range = [0, 0]\n",
    "    \n",
    "    search_pos = 0\n",
    "    score = 0\n",
    "    max_score = 0\n",
    "    \n",
    "    for time in x_pos:\n",
    "        \n",
    "        score = 0\n",
    "        \n",
    "        while times_and_metrics[search_pos][0] < time:\n",
    "            score += times_and_metrics[search_pos][1]\n",
    "#             print(score)\n",
    "#             score += 1\n",
    "            search_pos += 1\n",
    "\n",
    "        y_pos.append(score)\n",
    "        \n",
    "    x_pos = [datetime.fromtimestamp(time_elem) for time_elem in x_pos]\n",
    "        \n",
    "    return x_pos, y_pos, date_position / len(responses)\n",
    "        "
   ]
  },
  {
   "cell_type": "code",
   "execution_count": 61,
   "id": "699c1b78",
   "metadata": {
    "scrolled": false
   },
   "outputs": [
    {
     "data": {
      "image/png": "[encoded data removed]",
      "text/plain": [
       "<Figure size 1152x648 with 1 Axes>"
      ]
     },
     "metadata": {
      "needs_background": "light"
     },
     "output_type": "display_data"
    },
    {
     "name": "stdout",
     "output_type": "stream",
     "text": [
      "There are 165.78486222662735 times more tweets per hour from 2022-02-09T21:00:00.000Z to 2022-02-10 23:50:08 than from 2022-02-08 19:30:16.940000 to 2022-02-09T21:00:00.000Z\n"
     ]
    }
   ],
   "source": [
    "date_mid = '2022-02-09T21:00:00.000Z'\n",
    "\n",
    "x_pos, y_pos, date_value = binify(responses, 100, date_mid)\n",
    "\n",
    "# for tweet in responses[subset[0] : subset[1]]:\n",
    "#     print(tweet)\n",
    "#     print('____________________')\n",
    "\n",
    "plt.figure(figsize=[16,9])\n",
    "plt.xlim([x_pos[0], x_pos[-1]])\n",
    "plt.ylim([0, max(y_pos) * 1.1])\n",
    "plt.plot(x_pos, y_pos)\n",
    "# plt.plot(x_pos[4:], np.convolve(y_pos, np.ones(5), 'valid') / 5)\n",
    "plt.show()\n",
    "\n",
    "# print(date_value)\n",
    "\n",
    "rate_before = datetime.strptime(date_mid, '%Y-%m-%dT%H:%M:%S.%fZ').timestamp() - x_pos[0].timestamp()\n",
    "\n",
    "rate_after = x_pos[-1].timestamp() - datetime.strptime(date_mid, '%Y-%m-%dT%H:%M:%S.%fZ').timestamp()\n",
    "\n",
    "score = ((1 - date_value) / rate_after) / (date_value / rate_before)\n",
    "\n",
    "print('There are', score, 'times more tweets per hour from', date_mid, 'to', x_pos[-1], 'than from', x_pos[0], 'to', date_mid)"
   ]
  },
  {
   "cell_type": "code",
   "execution_count": 32,
   "id": "542d4329",
   "metadata": {
    "scrolled": true
   },
   "outputs": [
    {
     "name": "stdout",
     "output_type": "stream",
     "text": [
      "25\n",
      "56\n",
      "[2, 5]\n"
     ]
    }
   ],
   "source": [
    "# print(x_pos)\n",
    "print(max(y_pos))\n",
    "print(np.argmax(y_pos))\n",
    "important_range = ranges[np.argmax(y_pos) - 5]\n",
    "print(important_range)\n",
    "\n",
    "# for tweet in responses[important_range[0]:important_range[1]]:\n",
    "#     print(tweet['text'])\n",
    "#     print('---------------------------')"
   ]
  },
  {
   "cell_type": "code",
   "execution_count": 34,
   "id": "2c36d098",
   "metadata": {},
   "outputs": [
    {
     "name": "stdout",
     "output_type": "stream",
     "text": [
      "351\n"
     ]
    }
   ],
   "source": [
    "times = []\n",
    "\n",
    "for response in responses:\n",
    "    times.append(response['created_at'])\n",
    "        \n",
    "print(len(times))"
   ]
  },
  {
   "cell_type": "code",
   "execution_count": 35,
   "id": "b77b905c",
   "metadata": {},
   "outputs": [
    {
     "data": {
      "text/plain": [
       "[]"
      ]
     },
     "execution_count": 35,
     "metadata": {},
     "output_type": "execute_result"
    },
    {
     "data": {
      "image/png": "[encoded data removed]",
      "text/plain": [
       "<Figure size 1152x648 with 1 Axes>"
      ]
     },
     "metadata": {
      "needs_background": "light"
     },
     "output_type": "display_data"
    }
   ],
   "source": [
    "times_copy = pd.to_datetime(times)\n",
    "\n",
    "# timestamps = [datetime.strptime(time, '%Y-%m-%dT%H:%M:%S.%fZ').timestamp() for time in times]\n",
    "\n",
    "plt.figure(figsize=[16,9])\n",
    "plt.hist(times_copy, bins = 100)\n",
    "# plt.xlim([x_pos[0], x_pos[-1]])\n",
    "\n",
    "# plt.xlabel('Date',fontsize=15)\n",
    "# plt.ylabel('Num Tweets',fontsize=15)\n",
    "# plt.title('Query: Purdue Police \\n\\n Tweet Distribution from: 2022-02-08 00:00:00 to 2022-02-10 23:59',fontsize=15)\n",
    "\n",
    "plt.plot()"
   ]
  },
  {
   "cell_type": "code",
   "execution_count": 45,
   "id": "4e6b0332",
   "metadata": {},
   "outputs": [
    {
     "data": {
      "text/plain": [
       "'2022-02-21T23:54:55.000Z'"
      ]
     },
     "execution_count": 45,
     "metadata": {},
     "output_type": "execute_result"
    }
   ],
   "source": [
    "times[-1]"
   ]
  },
  {
   "cell_type": "code",
   "execution_count": null,
   "id": "1f3d4943",
   "metadata": {},
   "outputs": [],
   "source": []
  }
 ],
 "metadata": {
  "kernelspec": {
   "display_name": "Python 3 (ipykernel)",
   "language": "python",
   "name": "python3"
  },
  "language_info": {
   "codemirror_mode": {
    "name": "ipython",
    "version": 3
   },
   "file_extension": ".py",
   "mimetype": "text/x-python",
   "name": "python",
   "nbconvert_exporter": "python",
   "pygments_lexer": "ipython3",
   "version": "3.9.6"
  }
 },
 "nbformat": 4,
 "nbformat_minor": 5
}
